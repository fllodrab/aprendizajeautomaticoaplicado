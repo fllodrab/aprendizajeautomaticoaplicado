{
 "cells": [
  {
   "cell_type": "code",
   "execution_count": 4,
   "metadata": {},
   "outputs": [
    {
     "name": "stdout",
     "output_type": "stream",
     "text": [
      "Using matplotlib backend: Qt5Agg\n",
      "Populating the interactive namespace from numpy and matplotlib\n"
     ]
    }
   ],
   "source": [
    "%pylab\n",
    "%matplotlib inline\n",
    "\n",
    "%config InlineBackend.figure_format = 'retina'\n",
    "\n",
    "import pandas as pd"
   ]
  },
  {
   "cell_type": "code",
   "execution_count": 5,
   "metadata": {},
   "outputs": [],
   "source": [
    "mammals = pd.read_csv('../extras/mammals.csv', sep = ',')"
   ]
  },
  {
   "cell_type": "code",
   "execution_count": 10,
   "metadata": {},
   "outputs": [],
   "source": [
    "from sklearn.metrics import silhouette_score\n",
    "from sklearn.cluster import KMeans\n",
    "\n",
    "def plot_sillhouette(blobs, figure_name, max_k = 10, n_init = 10):\n",
    "    sillhouette_avgs = []\n",
    "    \n",
    "    for k in range(2, max_k):\n",
    "        kmean = KMeans(n_clusters = k, n_init = n_init).fit(blobs)\n",
    "        sillhouette_avgs.append(silhouette_score(blobs, kmean.labels_))\n",
    "        \n",
    "    plot(range(2, max_k), sillhouette_avgs)\n",
    "    title(figure_name)"
   ]
  },
  {
   "cell_type": "code",
   "execution_count": 12,
   "metadata": {},
   "outputs": [
    {
     "data": {
      "text/html": [
       "<div>\n",
       "<style scoped>\n",
       "    .dataframe tbody tr th:only-of-type {\n",
       "        vertical-align: middle;\n",
       "    }\n",
       "\n",
       "    .dataframe tbody tr th {\n",
       "        vertical-align: top;\n",
       "    }\n",
       "\n",
       "    .dataframe thead th {\n",
       "        text-align: right;\n",
       "    }\n",
       "</style>\n",
       "<table border=\"1\" class=\"dataframe\">\n",
       "  <thead>\n",
       "    <tr style=\"text-align: right;\">\n",
       "      <th></th>\n",
       "      <th>name</th>\n",
       "      <th>water</th>\n",
       "      <th>protein</th>\n",
       "      <th>fat</th>\n",
       "      <th>lactose</th>\n",
       "      <th>ash</th>\n",
       "    </tr>\n",
       "  </thead>\n",
       "  <tbody>\n",
       "    <tr>\n",
       "      <th>0</th>\n",
       "      <td>Horse</td>\n",
       "      <td>90.1</td>\n",
       "      <td>2.6</td>\n",
       "      <td>1.0</td>\n",
       "      <td>6.9</td>\n",
       "      <td>0.35</td>\n",
       "    </tr>\n",
       "    <tr>\n",
       "      <th>1</th>\n",
       "      <td>Orangutan</td>\n",
       "      <td>88.5</td>\n",
       "      <td>1.4</td>\n",
       "      <td>3.5</td>\n",
       "      <td>6.0</td>\n",
       "      <td>0.24</td>\n",
       "    </tr>\n",
       "    <tr>\n",
       "      <th>2</th>\n",
       "      <td>Monkey</td>\n",
       "      <td>88.4</td>\n",
       "      <td>2.2</td>\n",
       "      <td>2.7</td>\n",
       "      <td>6.4</td>\n",
       "      <td>0.18</td>\n",
       "    </tr>\n",
       "    <tr>\n",
       "      <th>3</th>\n",
       "      <td>Donkey</td>\n",
       "      <td>90.3</td>\n",
       "      <td>1.7</td>\n",
       "      <td>1.4</td>\n",
       "      <td>6.2</td>\n",
       "      <td>0.40</td>\n",
       "    </tr>\n",
       "    <tr>\n",
       "      <th>4</th>\n",
       "      <td>Hippo</td>\n",
       "      <td>90.4</td>\n",
       "      <td>0.6</td>\n",
       "      <td>4.5</td>\n",
       "      <td>4.4</td>\n",
       "      <td>0.10</td>\n",
       "    </tr>\n",
       "  </tbody>\n",
       "</table>\n",
       "</div>"
      ],
      "text/plain": [
       "        name  water  protein  fat  lactose   ash\n",
       "0      Horse   90.1      2.6  1.0      6.9  0.35\n",
       "1  Orangutan   88.5      1.4  3.5      6.0  0.24\n",
       "2     Monkey   88.4      2.2  2.7      6.4  0.18\n",
       "3     Donkey   90.3      1.7  1.4      6.2  0.40\n",
       "4      Hippo   90.4      0.6  4.5      4.4  0.10"
      ]
     },
     "execution_count": 12,
     "metadata": {},
     "output_type": "execute_result"
    }
   ],
   "source": [
    "mammals.head()"
   ]
  },
  {
   "cell_type": "code",
   "execution_count": 19,
   "metadata": {},
   "outputs": [],
   "source": [
    "col_names = list(mammals.columns)\n",
    "col_names.remove('name')\n",
    "\n",
    "mammals_data = mammals[col_names]"
   ]
  },
  {
   "cell_type": "code",
   "execution_count": 21,
   "metadata": {},
   "outputs": [
    {
     "data": {
      "image/png": "[encoded data removed]",
      "text/plain": [
       "<matplotlib.figure.Figure at 0x19ad4319eb8>"
      ]
     },
     "metadata": {
      "image/png": {
       "height": 263,
       "width": 380
      }
     },
     "output_type": "display_data"
    }
   ],
   "source": [
    "plot_sillhouette(mammals_data, 'Mammals')"
   ]
  },
  {
   "cell_type": "code",
   "execution_count": 22,
   "metadata": {},
   "outputs": [
    {
     "data": {
      "text/plain": [
       "array([[69.47142857,  9.51428571, 16.28571429,  2.92857143,  1.31142857],\n",
       "       [86.0625    ,  4.275     ,  4.175     ,  5.11875   ,  0.635625  ],\n",
       "       [45.65      , 10.15      , 38.45      ,  0.45      ,  0.69      ]])"
      ]
     },
     "execution_count": 22,
     "metadata": {},
     "output_type": "execute_result"
    }
   ],
   "source": [
    "kmeans = KMeans(n_clusters = 3, n_init = 10).fit(mammals_data)\n",
    "kmeans.cluster_centers_"
   ]
  },
  {
   "cell_type": "code",
   "execution_count": 23,
   "metadata": {},
   "outputs": [
    {
     "name": "stdout",
     "output_type": "stream",
     "text": [
      "Cluster 0\n",
      "16         Dog\n",
      "17    Elephant\n",
      "18      Rabbit\n",
      "19         Rat\n",
      "20        Deer\n",
      "21    Reindeer\n",
      "22       Whale\n",
      "Name: name, dtype: object\n",
      "Cluster 1\n",
      "0          Horse\n",
      "1      Orangutan\n",
      "2         Monkey\n",
      "3         Donkey\n",
      "4          Hippo\n",
      "5          Camel\n",
      "6          Bison\n",
      "7        Buffalo\n",
      "8     Guinea Pig\n",
      "9            Cat\n",
      "10           Fox\n",
      "11         Llama\n",
      "12          Mule\n",
      "13           Pig\n",
      "14         Zebra\n",
      "15         Sheep\n",
      "Name: name, dtype: object\n",
      "Cluster 2\n",
      "23       Seal\n",
      "24    Dolphin\n",
      "Name: name, dtype: object\n"
     ]
    }
   ],
   "source": [
    "clust = kmeans.predict(mammals_data)\n",
    "\n",
    "for i in range(max(clust) + 1):\n",
    "    print (\"Cluster\", i)\n",
    "    print (mammals[\"name\"][clust == i])"
   ]
  }
 ],
 "metadata": {
  "kernelspec": {
   "display_name": "Python 3",
   "language": "python",
   "name": "python3"
  },
  "language_info": {
   "codemirror_mode": {
    "name": "ipython",
    "version": 3
   },
   "file_extension": ".py",
   "mimetype": "text/x-python",
   "name": "python",
   "nbconvert_exporter": "python",
   "pygments_lexer": "ipython3",
   "version": "3.6.4"
  }
 },
 "nbformat": 4,
 "nbformat_minor": 2
}
